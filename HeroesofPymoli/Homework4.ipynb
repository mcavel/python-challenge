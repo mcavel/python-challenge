{
 "cells": [
  {
   "cell_type": "markdown",
   "metadata": {},
   "source": [
    "<h1>Heroes of Pymoli Data Analysis</h1>\n",
    "\n",
    "<ul><li>Point 1<ul><li>Point 1A</ul><li>Point 2<li>Point 3</ul>\n",
    "\n",
    "<img src=\"https://media.giphy.com/media/AeUm5FEayfiV2/giphy.gif\" align=\"left\">\n",
    "\n"
   ]
  },
  {
   "cell_type": "code",
   "execution_count": 111,
   "metadata": {
    "scrolled": true
   },
   "outputs": [
    {
     "data": {
      "text/html": [
       "<div>\n",
       "<style>\n",
       "    .dataframe thead tr:only-child th {\n",
       "        text-align: right;\n",
       "    }\n",
       "\n",
       "    .dataframe thead th {\n",
       "        text-align: left;\n",
       "    }\n",
       "\n",
       "    .dataframe tbody tr th {\n",
       "        vertical-align: top;\n",
       "    }\n",
       "</style>\n",
       "<table border=\"1\" class=\"dataframe\">\n",
       "  <thead>\n",
       "    <tr style=\"text-align: right;\">\n",
       "      <th></th>\n",
       "      <th>Age</th>\n",
       "      <th>Gender</th>\n",
       "      <th>Item ID</th>\n",
       "      <th>Item Name</th>\n",
       "      <th>Price</th>\n",
       "      <th>SN</th>\n",
       "    </tr>\n",
       "  </thead>\n",
       "  <tbody>\n",
       "    <tr>\n",
       "      <th>0</th>\n",
       "      <td>20</td>\n",
       "      <td>Male</td>\n",
       "      <td>93</td>\n",
       "      <td>Apocalyptic Battlescythe</td>\n",
       "      <td>4.49</td>\n",
       "      <td>Iloni35</td>\n",
       "    </tr>\n",
       "    <tr>\n",
       "      <th>1</th>\n",
       "      <td>21</td>\n",
       "      <td>Male</td>\n",
       "      <td>12</td>\n",
       "      <td>Dawne</td>\n",
       "      <td>3.36</td>\n",
       "      <td>Aidaira26</td>\n",
       "    </tr>\n",
       "    <tr>\n",
       "      <th>2</th>\n",
       "      <td>17</td>\n",
       "      <td>Male</td>\n",
       "      <td>5</td>\n",
       "      <td>Putrid Fan</td>\n",
       "      <td>2.63</td>\n",
       "      <td>Irim47</td>\n",
       "    </tr>\n",
       "    <tr>\n",
       "      <th>3</th>\n",
       "      <td>17</td>\n",
       "      <td>Male</td>\n",
       "      <td>123</td>\n",
       "      <td>Twilight's Carver</td>\n",
       "      <td>2.55</td>\n",
       "      <td>Irith83</td>\n",
       "    </tr>\n",
       "    <tr>\n",
       "      <th>4</th>\n",
       "      <td>22</td>\n",
       "      <td>Male</td>\n",
       "      <td>154</td>\n",
       "      <td>Feral Katana</td>\n",
       "      <td>4.11</td>\n",
       "      <td>Philodil43</td>\n",
       "    </tr>\n",
       "  </tbody>\n",
       "</table>\n",
       "</div>"
      ],
      "text/plain": [
       "   Age Gender  Item ID                 Item Name  Price          SN\n",
       "0   20   Male       93  Apocalyptic Battlescythe   4.49     Iloni35\n",
       "1   21   Male       12                     Dawne   3.36   Aidaira26\n",
       "2   17   Male        5                Putrid Fan   2.63      Irim47\n",
       "3   17   Male      123         Twilight's Carver   2.55     Irith83\n",
       "4   22   Male      154              Feral Katana   4.11  Philodil43"
      ]
     },
     "execution_count": 111,
     "metadata": {},
     "output_type": "execute_result"
    }
   ],
   "source": [
    "#import \n",
    "import pandas as pd\n",
    "import numpy as np\n",
    "rawpurchasedata = \"purchase_data.json\"\n",
    "sales_data = pd.read_json(rawpurchasedata)\n",
    "\n",
    "sales_data.head(5)"
   ]
  },
  {
   "cell_type": "markdown",
   "metadata": {
    "collapsed": true
   },
   "source": [
    "<c><h3>Player Count</h3></c>\n"
   ]
  },
  {
   "cell_type": "code",
   "execution_count": 71,
   "metadata": {},
   "outputs": [
    {
     "data": {
      "text/html": [
       "<div>\n",
       "<style>\n",
       "    .dataframe thead tr:only-child th {\n",
       "        text-align: right;\n",
       "    }\n",
       "\n",
       "    .dataframe thead th {\n",
       "        text-align: left;\n",
       "    }\n",
       "\n",
       "    .dataframe tbody tr th {\n",
       "        vertical-align: top;\n",
       "    }\n",
       "</style>\n",
       "<table border=\"1\" class=\"dataframe\">\n",
       "  <thead>\n",
       "    <tr style=\"text-align: right;\">\n",
       "      <th></th>\n",
       "      <th>Players Count</th>\n",
       "    </tr>\n",
       "  </thead>\n",
       "  <tbody>\n",
       "    <tr>\n",
       "      <th>0</th>\n",
       "      <td>74</td>\n",
       "    </tr>\n",
       "  </tbody>\n",
       "</table>\n",
       "</div>"
      ],
      "text/plain": [
       "   Players Count\n",
       "0             74"
      ]
     },
     "execution_count": 71,
     "metadata": {},
     "output_type": "execute_result"
    }
   ],
   "source": [
    "\n",
    "pc_df = pd.DataFrame(\n",
    "    {\"Players Count\": [sales_data[\"SN\"].nunique()]\n",
    "    })\n",
    "\n",
    "pc_df\n",
    "\n",
    "\n"
   ]
  },
  {
   "cell_type": "markdown",
   "metadata": {},
   "source": [
    "<c><h3>Purchasing Analysis (Total)</h3></c>"
   ]
  },
  {
   "cell_type": "code",
   "execution_count": 112,
   "metadata": {
    "scrolled": true
   },
   "outputs": [
    {
     "data": {
      "text/html": [
       "<div>\n",
       "<style>\n",
       "    .dataframe thead tr:only-child th {\n",
       "        text-align: right;\n",
       "    }\n",
       "\n",
       "    .dataframe thead th {\n",
       "        text-align: left;\n",
       "    }\n",
       "\n",
       "    .dataframe tbody tr th {\n",
       "        vertical-align: top;\n",
       "    }\n",
       "</style>\n",
       "<table border=\"1\" class=\"dataframe\">\n",
       "  <thead>\n",
       "    <tr style=\"text-align: right;\">\n",
       "      <th></th>\n",
       "      <th>Number of Unique Items</th>\n",
       "      <th>Average Price</th>\n",
       "      <th>Number of Purchases</th>\n",
       "      <th>Total Revenue</th>\n",
       "    </tr>\n",
       "  </thead>\n",
       "  <tbody>\n",
       "    <tr>\n",
       "      <th>0</th>\n",
       "      <td>63</td>\n",
       "      <td>$2.92</td>\n",
       "      <td>78</td>\n",
       "      <td>$228.10</td>\n",
       "    </tr>\n",
       "  </tbody>\n",
       "</table>\n",
       "</div>"
      ],
      "text/plain": [
       "   Number of Unique Items Average Price  Number of Purchases Total Revenue\n",
       "0                      63         $2.92                   78       $228.10"
      ]
     },
     "execution_count": 112,
     "metadata": {},
     "output_type": "execute_result"
    }
   ],
   "source": [
    "#s = pd.Series(sales_data[\"Item Name\"])\n",
    "\n",
    "uniqueitems = sales_data[\"Item Name\"].nunique()\n",
    "average_price = [np.round(sales_data[\"Price\"].mean(), 2)]\n",
    "number_of_purchases = [sales_data[\"Price\"].count()]\n",
    "total_revenue =  [sales_data[\"Price\"].sum()]\n",
    "\n",
    "\n",
    "\n",
    "pa_df = pd.DataFrame(\n",
    "    {\"Number of Unique Items\": uniqueitems ,\"Average Price\": average_price , \n",
    "     \"Number of Purchases\": number_of_purchases,\"Total Revenue\": total_revenue\n",
    "    \n",
    "    })\n",
    "\n",
    "pa_df[\"Average Price\"] = pa_df[\"Average Price\"].map(\"${:.2f}\".format)\n",
    "pa_df[\"Total Revenue\"] = pa_df[\"Total Revenue\"].map(\"${:.2f}\".format)\n",
    "\n",
    "pa_df[['Number of Unique Items','Average Price','Number of Purchases','Total Revenue']]\n",
    "\n"
   ]
  },
  {
   "cell_type": "code",
   "execution_count": 74,
   "metadata": {},
   "outputs": [
    {
     "data": {
      "text/html": [
       "<div>\n",
       "<style>\n",
       "    .dataframe thead tr:only-child th {\n",
       "        text-align: right;\n",
       "    }\n",
       "\n",
       "    .dataframe thead th {\n",
       "        text-align: left;\n",
       "    }\n",
       "\n",
       "    .dataframe tbody tr th {\n",
       "        vertical-align: top;\n",
       "    }\n",
       "</style>\n",
       "<table border=\"1\" class=\"dataframe\">\n",
       "  <thead>\n",
       "    <tr style=\"text-align: right;\">\n",
       "      <th></th>\n",
       "      <th>Percentage of Players</th>\n",
       "      <th>Total Count</th>\n",
       "    </tr>\n",
       "  </thead>\n",
       "  <tbody>\n",
       "    <tr>\n",
       "      <th>Male</th>\n",
       "      <td>82.05%</td>\n",
       "      <td>64</td>\n",
       "    </tr>\n",
       "    <tr>\n",
       "      <th>Female</th>\n",
       "      <td>16.67%</td>\n",
       "      <td>13</td>\n",
       "    </tr>\n",
       "    <tr>\n",
       "      <th>Other / Non-Disclosed</th>\n",
       "      <td>1.28%</td>\n",
       "      <td>1</td>\n",
       "    </tr>\n",
       "  </tbody>\n",
       "</table>\n",
       "</div>"
      ],
      "text/plain": [
       "                      Percentage of Players  Total Count\n",
       "Male                                 82.05%           64\n",
       "Female                               16.67%           13\n",
       "Other / Non-Disclosed                 1.28%            1"
      ]
     },
     "execution_count": 74,
     "metadata": {},
     "output_type": "execute_result"
    }
   ],
   "source": [
    "gender_count = pd.DataFrame(sales_data[\"Gender\"].value_counts())\n",
    "total=sales_data['Gender'].count()\n",
    "gender_count.rename = gender_count.rename(columns={\"Gender\": \"Total Count\"})\n",
    "\n",
    "\n",
    "gender_percentage = pd.DataFrame(((sales_data[\"Gender\"].value_counts())/total)*100)\n",
    "gender_percentage[\"Gender\"] = gender_percentage[\"Gender\"].map(\"{:.2f}%\".format)\n",
    "gender_percentage.rename = gender_percentage.rename(columns={\"Gender\": \"Percentage of Players\"})\n",
    "\n",
    "ga = pd.concat([gender_percentage.rename, gender_count.rename], axis=1,ignore_index=False)\n",
    "ga\n",
    "\n"
   ]
  },
  {
   "cell_type": "code",
   "execution_count": 110,
   "metadata": {},
   "outputs": [
    {
     "data": {
      "text/html": [
       "<div>\n",
       "<style>\n",
       "    .dataframe thead tr:only-child th {\n",
       "        text-align: right;\n",
       "    }\n",
       "\n",
       "    .dataframe thead th {\n",
       "        text-align: left;\n",
       "    }\n",
       "\n",
       "    .dataframe tbody tr th {\n",
       "        vertical-align: top;\n",
       "    }\n",
       "</style>\n",
       "<table border=\"1\" class=\"dataframe\">\n",
       "  <thead>\n",
       "    <tr style=\"text-align: right;\">\n",
       "      <th></th>\n",
       "      <th>Purchase Count</th>\n",
       "      <th>Average Purchase Price</th>\n",
       "      <th>Total Purchase Value</th>\n",
       "      <th>Normalized Totals</th>\n",
       "    </tr>\n",
       "    <tr>\n",
       "      <th>Gender</th>\n",
       "      <th></th>\n",
       "      <th></th>\n",
       "      <th></th>\n",
       "      <th></th>\n",
       "    </tr>\n",
       "  </thead>\n",
       "  <tbody>\n",
       "    <tr>\n",
       "      <th>Female</th>\n",
       "      <td>13</td>\n",
       "      <td>$3.18</td>\n",
       "      <td>$41.38</td>\n",
       "      <td>$4.33</td>\n",
       "    </tr>\n",
       "    <tr>\n",
       "      <th>Male</th>\n",
       "      <td>64</td>\n",
       "      <td>$2.88</td>\n",
       "      <td>$184.60</td>\n",
       "      <td>$21.33</td>\n",
       "    </tr>\n",
       "    <tr>\n",
       "      <th>Other / Non-Disclosed</th>\n",
       "      <td>1</td>\n",
       "      <td>$2.12</td>\n",
       "      <td>$2.12</td>\n",
       "      <td>$0.33</td>\n",
       "    </tr>\n",
       "  </tbody>\n",
       "</table>\n",
       "</div>"
      ],
      "text/plain": [
       "                       Purchase Count Average Purchase Price  \\\n",
       "Gender                                                         \n",
       "Female                             13                  $3.18   \n",
       "Male                               64                  $2.88   \n",
       "Other / Non-Disclosed               1                  $2.12   \n",
       "\n",
       "                      Total Purchase Value Normalized Totals  \n",
       "Gender                                                        \n",
       "Female                              $41.38             $4.33  \n",
       "Male                               $184.60            $21.33  \n",
       "Other / Non-Disclosed                $2.12             $0.33  "
      ]
     },
     "execution_count": 110,
     "metadata": {},
     "output_type": "execute_result"
    }
   ],
   "source": [
    "ga2_purchase_count = sales_data.groupby([\"Gender\"])[\"Price\"].count()\n",
    "ga2_avg_puchase_price = sales_data.groupby([\"Gender\"])[\"Price\"].mean()\n",
    "ga2_ttl_purchase_price = sales_data.groupby([\"Gender\"])[\"Price\"].sum()\n",
    "ga2_nmlzd_totals = ga2_purchase_count/total_purchase_value.count()\n",
    "\n",
    "ga2_avg_puchase_price = ga2_avg_puchase_price.map(\"${:,.2f}\".format)\n",
    "ga2_ttl_purchase_price = ga2_ttl_purchase_price.map(\"${:,.2f}\".format)\n",
    "ga2_nmlzd_totals= ga2_nmlzd_totals.map(\"${:,.2f}\".format)\n",
    "\n",
    "ga2 = pd.DataFrame({\"Purchase Count\": ga2_purchase_count,\n",
    "                    \"Average Purchase Price\":ga2_avg_puchase_price,\n",
    "                    \"Total Purchase Value\":ga2_ttl_purchase_price,\n",
    "                    \"Normalized Totals\":ga2_nmlzd_totals})\n",
    "ga2 = ga2.round(2)\n",
    "\n",
    "ga2[['Purchase Count','Average Purchase Price','Total Purchase Value','Normalized Totals']]"
   ]
  },
  {
   "cell_type": "code",
   "execution_count": 166,
   "metadata": {},
   "outputs": [
    {
     "data": {
      "text/html": [
       "<div>\n",
       "<style>\n",
       "    .dataframe thead tr:only-child th {\n",
       "        text-align: right;\n",
       "    }\n",
       "\n",
       "    .dataframe thead th {\n",
       "        text-align: left;\n",
       "    }\n",
       "\n",
       "    .dataframe tbody tr th {\n",
       "        vertical-align: top;\n",
       "    }\n",
       "</style>\n",
       "<table border=\"1\" class=\"dataframe\">\n",
       "  <thead>\n",
       "    <tr style=\"text-align: right;\">\n",
       "      <th></th>\n",
       "      <th>Age</th>\n",
       "      <th>Players Count</th>\n",
       "    </tr>\n",
       "  </thead>\n",
       "  <tbody>\n",
       "    <tr>\n",
       "      <th>0</th>\n",
       "      <td>10-14</td>\n",
       "      <td>3</td>\n",
       "    </tr>\n",
       "    <tr>\n",
       "      <th>1</th>\n",
       "      <td>15-19</td>\n",
       "      <td>11</td>\n",
       "    </tr>\n",
       "    <tr>\n",
       "      <th>2</th>\n",
       "      <td>20-24</td>\n",
       "      <td>29</td>\n",
       "    </tr>\n",
       "    <tr>\n",
       "      <th>3</th>\n",
       "      <td>25-29</td>\n",
       "      <td>9</td>\n",
       "    </tr>\n",
       "    <tr>\n",
       "      <th>4</th>\n",
       "      <td>30-34</td>\n",
       "      <td>6</td>\n",
       "    </tr>\n",
       "    <tr>\n",
       "      <th>5</th>\n",
       "      <td>35-39</td>\n",
       "      <td>5</td>\n",
       "    </tr>\n",
       "    <tr>\n",
       "      <th>6</th>\n",
       "      <td>40+</td>\n",
       "      <td>10</td>\n",
       "    </tr>\n",
       "    <tr>\n",
       "      <th>7</th>\n",
       "      <td>&lt;10</td>\n",
       "      <td>5</td>\n",
       "    </tr>\n",
       "  </tbody>\n",
       "</table>\n",
       "</div>"
      ],
      "text/plain": [
       "     Age  Players Count\n",
       "0  10-14              3\n",
       "1  15-19             11\n",
       "2  20-24             29\n",
       "3  25-29              9\n",
       "4  30-34              6\n",
       "5  35-39              5\n",
       "6    40+             10\n",
       "7    <10              5"
      ]
     },
     "execution_count": 166,
     "metadata": {},
     "output_type": "execute_result"
    }
   ],
   "source": [
    "\n",
    "age_demo=pd.DataFrame(\n",
    "    {\"Age\": sales_data['Age'],\"Percentage of Players\": sales_data['Age'],\"Players Count\": sales_data['Age']})\n",
    "\n",
    "\n",
    "def agerange_func(row):\n",
    "    if row['Age'] < [10]:\n",
    "        val = \"<10\"\n",
    "    elif(row['Age'] >=[10]) & (row['Age'] <[14]):\n",
    "        val = \"10-14\"\n",
    "    elif(row['Age'] >=[15]) & (row['Age'] <[19]):\n",
    "        val = \"15-19\"   \n",
    "    elif(row['Age'] >=[20]) & (row['Age'] <[24]):\n",
    "        val = \"20-24\"  \n",
    "    elif(row['Age'] >=[25]) & (row['Age'] <[29]):\n",
    "        val = \"25-29\"  \n",
    "    elif(row['Age'] >=[30]) & (row['Age'] <[34]):\n",
    "        val = \"30-34\"  \n",
    "    elif(row['Age'] >=[35]) & (row['Age'] <[39]):\n",
    "        val = \"35-39\"  \n",
    "    else:\n",
    "        val = \"40+\"  \n",
    "    return val\n",
    "age_demo['Age'] = age_demo.apply(agerange_func, axis=1)\n",
    "age_demo\n",
    "age_demo.groupby(\"Age\",as_index=False,)[\"Players Count\"].count()\n",
    "\n",
    "#age_demo2 = pd.DataFrame(age_demo)\n",
    "#age_demo2.groupby([\"Age\"])[\"Players Count\"].count()\n",
    "\n"
   ]
  },
  {
   "cell_type": "code",
   "execution_count": null,
   "metadata": {
    "collapsed": true
   },
   "outputs": [],
   "source": []
  },
  {
   "cell_type": "code",
   "execution_count": null,
   "metadata": {
    "collapsed": true
   },
   "outputs": [],
   "source": []
  },
  {
   "cell_type": "code",
   "execution_count": null,
   "metadata": {
    "collapsed": true
   },
   "outputs": [],
   "source": []
  }
 ],
 "metadata": {
  "kernelspec": {
   "display_name": "Python [conda env:PythonData]",
   "language": "python",
   "name": "conda-env-PythonData-py"
  },
  "language_info": {
   "codemirror_mode": {
    "name": "ipython",
    "version": 3
   },
   "file_extension": ".py",
   "mimetype": "text/x-python",
   "name": "python",
   "nbconvert_exporter": "python",
   "pygments_lexer": "ipython3",
   "version": "3.6.1"
  }
 },
 "nbformat": 4,
 "nbformat_minor": 2
}
